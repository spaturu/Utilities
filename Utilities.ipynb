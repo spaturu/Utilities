{
 "cells": [
  {
   "cell_type": "code",
   "execution_count": 1,
   "metadata": {
    "collapsed": false
   },
   "outputs": [],
   "source": [
    "from datetime import datetime\n",
    "import pandas as pd\n",
    "import numpy as np\n",
    "%matplotlib inline\n",
    "import matplotlib.pyplot as pyplot\n",
    "import pandas as pd\n",
    "import matplotlib.pyplot as plt\n",
    "from sklearn.linear_model import LogisticRegression\n",
    "data = pd.read_csv('/Users/siddarthapaturu/Downloads/data.csv')"
   ]
  },
  {
   "cell_type": "code",
   "execution_count": 2,
   "metadata": {
    "collapsed": false
   },
   "outputs": [
    {
     "data": {
      "text/plain": [
       "(1304543, 25)"
      ]
     },
     "execution_count": 2,
     "metadata": {},
     "output_type": "execute_result"
    }
   ],
   "source": [
    "data.shape"
   ]
  },
  {
   "cell_type": "code",
   "execution_count": 3,
   "metadata": {
    "collapsed": false
   },
   "outputs": [],
   "source": [
    "data.columns =['MeterNo','AccountName','AccountType','BillCycle','BillCycleID','Date','DateStr',\n",
    "               'Event','ExceptionType','ExceptionTypeDesc',\n",
    "               'MeterType','MeterReadType','MeterReadTypeDesc','ServicePt',\n",
    "               'UOM','UOMName','TimeStamp','CurrBillCycle','PremiseName',\n",
    "               'Latitude','Longitude','DateId','Value1','Value2','Record_count']"
   ]
  },
  {
   "cell_type": "code",
   "execution_count": 4,
   "metadata": {
    "collapsed": false
   },
   "outputs": [
    {
     "data": {
      "text/html": [
       "<div>\n",
       "<table border=\"1\" class=\"dataframe\">\n",
       "  <thead>\n",
       "    <tr style=\"text-align: right;\">\n",
       "      <th></th>\n",
       "      <th>MeterNo</th>\n",
       "      <th>AccountName</th>\n",
       "      <th>AccountType</th>\n",
       "      <th>BillCycle</th>\n",
       "      <th>BillCycleID</th>\n",
       "      <th>Date</th>\n",
       "      <th>DateStr</th>\n",
       "      <th>Event</th>\n",
       "      <th>ExceptionType</th>\n",
       "      <th>ExceptionTypeDesc</th>\n",
       "      <th>...</th>\n",
       "      <th>UOMName</th>\n",
       "      <th>TimeStamp</th>\n",
       "      <th>CurrBillCycle</th>\n",
       "      <th>PremiseName</th>\n",
       "      <th>Latitude</th>\n",
       "      <th>Longitude</th>\n",
       "      <th>DateId</th>\n",
       "      <th>Value1</th>\n",
       "      <th>Value2</th>\n",
       "      <th>Record_count</th>\n",
       "    </tr>\n",
       "  </thead>\n",
       "  <tbody>\n",
       "    <tr>\n",
       "      <th>0</th>\n",
       "      <td>1679</td>\n",
       "      <td>Thane</td>\n",
       "      <td>RESIDENTIAL</td>\n",
       "      <td>BILL CYCLE 10</td>\n",
       "      <td>BC10</td>\n",
       "      <td>2017-04-15</td>\n",
       "      <td>20170415</td>\n",
       "      <td>NONE</td>\n",
       "      <td>NONE</td>\n",
       "      <td>NONE</td>\n",
       "      <td>...</td>\n",
       "      <td>kilowatts</td>\n",
       "      <td>22:45:00</td>\n",
       "      <td>0</td>\n",
       "      <td>33rd Street</td>\n",
       "      <td>36.044636</td>\n",
       "      <td>-120.321359</td>\n",
       "      <td>105</td>\n",
       "      <td>0.3358</td>\n",
       "      <td>NaN</td>\n",
       "      <td>1</td>\n",
       "    </tr>\n",
       "    <tr>\n",
       "      <th>1</th>\n",
       "      <td>1679</td>\n",
       "      <td>Thane</td>\n",
       "      <td>RESIDENTIAL</td>\n",
       "      <td>BILL CYCLE 10</td>\n",
       "      <td>BC10</td>\n",
       "      <td>2017-02-01</td>\n",
       "      <td>20170201</td>\n",
       "      <td>NONE</td>\n",
       "      <td>NONE</td>\n",
       "      <td>NONE</td>\n",
       "      <td>...</td>\n",
       "      <td>kilowatts</td>\n",
       "      <td>22:15:00</td>\n",
       "      <td>0</td>\n",
       "      <td>33rd Street</td>\n",
       "      <td>36.044636</td>\n",
       "      <td>-120.321359</td>\n",
       "      <td>32</td>\n",
       "      <td>0.9234</td>\n",
       "      <td>NaN</td>\n",
       "      <td>1</td>\n",
       "    </tr>\n",
       "    <tr>\n",
       "      <th>2</th>\n",
       "      <td>1679</td>\n",
       "      <td>Thane</td>\n",
       "      <td>RESIDENTIAL</td>\n",
       "      <td>BILL CYCLE 10</td>\n",
       "      <td>BC10</td>\n",
       "      <td>2017-01-21</td>\n",
       "      <td>20170121</td>\n",
       "      <td>NONE</td>\n",
       "      <td>NONE</td>\n",
       "      <td>NONE</td>\n",
       "      <td>...</td>\n",
       "      <td>kilowatts</td>\n",
       "      <td>22:45:00</td>\n",
       "      <td>0</td>\n",
       "      <td>33rd Street</td>\n",
       "      <td>36.044636</td>\n",
       "      <td>-120.321359</td>\n",
       "      <td>21</td>\n",
       "      <td>0.5033</td>\n",
       "      <td>NaN</td>\n",
       "      <td>1</td>\n",
       "    </tr>\n",
       "    <tr>\n",
       "      <th>3</th>\n",
       "      <td>1679</td>\n",
       "      <td>Thane</td>\n",
       "      <td>RESIDENTIAL</td>\n",
       "      <td>BILL CYCLE 10</td>\n",
       "      <td>BC10</td>\n",
       "      <td>2017-01-29</td>\n",
       "      <td>20170129</td>\n",
       "      <td>NONE</td>\n",
       "      <td>NONE</td>\n",
       "      <td>NONE</td>\n",
       "      <td>...</td>\n",
       "      <td>kilowatts</td>\n",
       "      <td>21:30:00</td>\n",
       "      <td>0</td>\n",
       "      <td>33rd Street</td>\n",
       "      <td>36.044636</td>\n",
       "      <td>-120.321359</td>\n",
       "      <td>29</td>\n",
       "      <td>0.2807</td>\n",
       "      <td>NaN</td>\n",
       "      <td>1</td>\n",
       "    </tr>\n",
       "    <tr>\n",
       "      <th>4</th>\n",
       "      <td>1679</td>\n",
       "      <td>Thane</td>\n",
       "      <td>RESIDENTIAL</td>\n",
       "      <td>BILL CYCLE 10</td>\n",
       "      <td>BC10</td>\n",
       "      <td>2017-01-16</td>\n",
       "      <td>20170116</td>\n",
       "      <td>NONE</td>\n",
       "      <td>NONE</td>\n",
       "      <td>NONE</td>\n",
       "      <td>...</td>\n",
       "      <td>kilowatts</td>\n",
       "      <td>22:15:00</td>\n",
       "      <td>0</td>\n",
       "      <td>33rd Street</td>\n",
       "      <td>36.044636</td>\n",
       "      <td>-120.321359</td>\n",
       "      <td>16</td>\n",
       "      <td>0.5097</td>\n",
       "      <td>NaN</td>\n",
       "      <td>1</td>\n",
       "    </tr>\n",
       "  </tbody>\n",
       "</table>\n",
       "<p>5 rows × 25 columns</p>\n",
       "</div>"
      ],
      "text/plain": [
       "   MeterNo AccountName  AccountType      BillCycle BillCycleID        Date  \\\n",
       "0     1679       Thane  RESIDENTIAL  BILL CYCLE 10        BC10  2017-04-15   \n",
       "1     1679       Thane  RESIDENTIAL  BILL CYCLE 10        BC10  2017-02-01   \n",
       "2     1679       Thane  RESIDENTIAL  BILL CYCLE 10        BC10  2017-01-21   \n",
       "3     1679       Thane  RESIDENTIAL  BILL CYCLE 10        BC10  2017-01-29   \n",
       "4     1679       Thane  RESIDENTIAL  BILL CYCLE 10        BC10  2017-01-16   \n",
       "\n",
       "    DateStr Event ExceptionType ExceptionTypeDesc      ...         UOMName  \\\n",
       "0  20170415  NONE          NONE              NONE      ...       kilowatts   \n",
       "1  20170201  NONE          NONE              NONE      ...       kilowatts   \n",
       "2  20170121  NONE          NONE              NONE      ...       kilowatts   \n",
       "3  20170129  NONE          NONE              NONE      ...       kilowatts   \n",
       "4  20170116  NONE          NONE              NONE      ...       kilowatts   \n",
       "\n",
       "  TimeStamp CurrBillCycle  PremiseName   Latitude   Longitude DateId  Value1  \\\n",
       "0  22:45:00             0  33rd Street  36.044636 -120.321359    105  0.3358   \n",
       "1  22:15:00             0  33rd Street  36.044636 -120.321359     32  0.9234   \n",
       "2  22:45:00             0  33rd Street  36.044636 -120.321359     21  0.5033   \n",
       "3  21:30:00             0  33rd Street  36.044636 -120.321359     29  0.2807   \n",
       "4  22:15:00             0  33rd Street  36.044636 -120.321359     16  0.5097   \n",
       "\n",
       "  Value2  Record_count  \n",
       "0    NaN             1  \n",
       "1    NaN             1  \n",
       "2    NaN             1  \n",
       "3    NaN             1  \n",
       "4    NaN             1  \n",
       "\n",
       "[5 rows x 25 columns]"
      ]
     },
     "execution_count": 4,
     "metadata": {},
     "output_type": "execute_result"
    }
   ],
   "source": [
    "data.head(5)"
   ]
  },
  {
   "cell_type": "code",
   "execution_count": 5,
   "metadata": {
    "collapsed": false
   },
   "outputs": [
    {
     "name": "stdout",
     "output_type": "stream",
     "text": [
      "242\n"
     ]
    }
   ],
   "source": [
    "data[data['ExceptionType'] != 'NONE']\n",
    "print(len(data[data['ExceptionType'] != 'NONE']))"
   ]
  },
  {
   "cell_type": "markdown",
   "metadata": {},
   "source": [
    "#### Less than 1% of data have exceptions "
   ]
  },
  {
   "cell_type": "markdown",
   "metadata": {},
   "source": [
    "#### Unique Categories in the Data"
   ]
  },
  {
   "cell_type": "code",
   "execution_count": 6,
   "metadata": {
    "collapsed": false
   },
   "outputs": [
    {
     "name": "stdout",
     "output_type": "stream",
     "text": [
      "['RESIDENTIAL' 'INDUSTRIAL' 'COMMERCIAL']\n",
      "['BC10' 'BC5' 'BC16' 'BC15' 'BC4' 'BC8' 'BC22' 'BC7' 'BC21' 'BC20' 'BC3'\n",
      " 'BC2' 'BC14' 'BC19' 'BC18' 'BC17' 'BC13' 'BC1' 'BC12' 'BC11' 'BC9' 'BC6']\n",
      "['NONE' 'Opened' 'Cleared' 'Stopped' 'Error' 'Reset' 'LossDetected'\n",
      " 'Changed' 'Failed' 'MinLimitReached']\n",
      "['NONE' 'Security' 'Service/Meter Type Mismatch' 'Communication Failure'\n",
      " 'Firmware Failure' 'Inaccurate Reading/Data Collection Failure'\n",
      " 'Power Outage' 'Configuration Failure' 'Meter Clock Failure'\n",
      " 'Battery Failure']\n",
      "['E']\n",
      "['ACTUAL' 'MISSING' 'ESTIMATED']\n",
      "100\n"
     ]
    }
   ],
   "source": [
    "print(data['AccountType'].unique())\n",
    "print(data['BillCycleID'].unique())\n",
    "print(data['Event'].unique())\n",
    "print(data['ExceptionType'].unique())\n",
    "print(data['MeterType'].unique())\n",
    "print(data['MeterReadTypeDesc'].unique())\n",
    "print(len(data['MeterNo'].unique()))"
   ]
  },
  {
   "cell_type": "code",
   "execution_count": 7,
   "metadata": {
    "collapsed": false
   },
   "outputs": [
    {
     "data": {
      "text/plain": [
       "MeterNo                int64\n",
       "AccountName           object\n",
       "AccountType           object\n",
       "BillCycle             object\n",
       "BillCycleID           object\n",
       "Date                  object\n",
       "DateStr                int64\n",
       "Event                 object\n",
       "ExceptionType         object\n",
       "ExceptionTypeDesc     object\n",
       "MeterType             object\n",
       "MeterReadType         object\n",
       "MeterReadTypeDesc     object\n",
       "ServicePt             object\n",
       "UOM                   object\n",
       "UOMName               object\n",
       "TimeStamp             object\n",
       "CurrBillCycle          int64\n",
       "PremiseName           object\n",
       "Latitude             float64\n",
       "Longitude            float64\n",
       "DateId                 int64\n",
       "Value1               float64\n",
       "Value2               float64\n",
       "Record_count           int64\n",
       "dtype: object"
      ]
     },
     "execution_count": 7,
     "metadata": {},
     "output_type": "execute_result"
    }
   ],
   "source": [
    "data.dtypes"
   ]
  },
  {
   "cell_type": "code",
   "execution_count": 8,
   "metadata": {
    "collapsed": false
   },
   "outputs": [],
   "source": [
    "data['MeterNo'] = data['MeterNo'].astype('str')\n",
    "data['AccountType'] = data['AccountType'].astype('category')\n",
    "data['BillCycleID'] = data['BillCycleID'].astype('category')\n",
    "data['Event'] = data['Event'].astype('category')\n",
    "data['ExceptionTypeDesc'] = data['ExceptionTypeDesc'].astype('category')\n",
    "data['MeterReadTypeDesc'] = data['MeterReadTypeDesc'].astype('category')\n",
    "data['Date'] = pd.to_datetime(data['Date'])\n",
    "data['TimeStamp'] = pd.to_datetime(data['TimeStamp'])"
   ]
  },
  {
   "cell_type": "markdown",
   "metadata": {},
   "source": [
    "#### Filtering the data for each sector and considering only required colums to build a model"
   ]
  },
  {
   "cell_type": "code",
   "execution_count": 9,
   "metadata": {
    "collapsed": true
   },
   "outputs": [],
   "source": [
    "df = data[['MeterNo','AccountType','BillCycleID','Date','TimeStamp','Event','ExceptionType','MeterReadTypeDesc','ServicePt','CurrBillCycle','Latitude','Longitude','Value1']]\n",
    "df_residential = df[df['AccountType'] == 'RESIDENTIAL']\n",
    "df_commercial = df[df['AccountType'] == 'COMMERCIAL']\n",
    "df_industrial = df[df['AccountType'] == 'INDUSTRIAL']"
   ]
  }
 ],
 "metadata": {
  "kernelspec": {
   "display_name": "Python 3",
   "language": "python",
   "name": "python3"
  },
  "language_info": {
   "codemirror_mode": {
    "name": "ipython",
    "version": 3
   },
   "file_extension": ".py",
   "mimetype": "text/x-python",
   "name": "python",
   "nbconvert_exporter": "python",
   "pygments_lexer": "ipython3",
   "version": "3.6.0"
  }
 },
 "nbformat": 4,
 "nbformat_minor": 2
}
