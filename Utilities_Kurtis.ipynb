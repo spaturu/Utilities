{
 "cells": [
  {
   "cell_type": "code",
   "execution_count": 2,
   "metadata": {
    "collapsed": false
   },
   "outputs": [],
   "source": [
    "from datetime import datetime\n",
    "import pandas as pd\n",
    "import numpy as np\n",
    "%matplotlib inline\n",
    "import matplotlib.pyplot as pyplot\n",
    "import pandas as pd\n",
    "import matplotlib.pyplot as plt\n",
    "from sklearn.linear_model import LogisticRegression\n",
    "data = pd.read_csv('./data.csv')"
   ]
  },
  {
   "cell_type": "code",
   "execution_count": 3,
   "metadata": {
    "collapsed": false
   },
   "outputs": [
    {
     "data": {
      "text/plain": [
       "(1304543, 23)"
      ]
     },
     "execution_count": 3,
     "metadata": {},
     "output_type": "execute_result"
    }
   ],
   "source": [
    "data.shape"
   ]
  },
  {
   "cell_type": "code",
   "execution_count": 7,
   "metadata": {
    "collapsed": false
   },
   "outputs": [],
   "source": [
    "data.columns =['MeterNo','AccountName','AccountType','BillCycle','BillCycleID','Date','DateStr',\n",
    "               'Event','ExceptionType','ExceptionTypeDesc',\n",
    "               'MeterType','MeterReadType','MeterReadTypeDesc','PremiseName','ServicePt',\n",
    "               'UOM','UOMName','TimeStamp','CurrBillCycle',\n",
    "               'DateId','Value1','Value2','Record_count']"
   ]
  },
  {
   "cell_type": "code",
   "execution_count": 8,
   "metadata": {
    "collapsed": false
   },
   "outputs": [
    {
     "data": {
      "text/html": [
       "<div>\n",
       "<table border=\"1\" class=\"dataframe\">\n",
       "  <thead>\n",
       "    <tr style=\"text-align: right;\">\n",
       "      <th></th>\n",
       "      <th>MeterNo</th>\n",
       "      <th>AccountName</th>\n",
       "      <th>AccountType</th>\n",
       "      <th>BillCycle</th>\n",
       "      <th>BillCycleID</th>\n",
       "      <th>Date</th>\n",
       "      <th>DateStr</th>\n",
       "      <th>Event</th>\n",
       "      <th>ExceptionType</th>\n",
       "      <th>ExceptionTypeDesc</th>\n",
       "      <th>...</th>\n",
       "      <th>PremiseName</th>\n",
       "      <th>ServicePt</th>\n",
       "      <th>UOM</th>\n",
       "      <th>UOMName</th>\n",
       "      <th>TimeStamp</th>\n",
       "      <th>CurrBillCycle</th>\n",
       "      <th>DateId</th>\n",
       "      <th>Value1</th>\n",
       "      <th>Value2</th>\n",
       "      <th>Record_count</th>\n",
       "    </tr>\n",
       "  </thead>\n",
       "  <tbody>\n",
       "    <tr>\n",
       "      <th>0</th>\n",
       "      <td>1679</td>\n",
       "      <td>Thane</td>\n",
       "      <td>RESIDENTIAL</td>\n",
       "      <td>BILL CYCLE 10</td>\n",
       "      <td>BC10</td>\n",
       "      <td>2017-02-03</td>\n",
       "      <td>20170203</td>\n",
       "      <td>NONE</td>\n",
       "      <td>NONE</td>\n",
       "      <td>NONE</td>\n",
       "      <td>...</td>\n",
       "      <td>33rd Street</td>\n",
       "      <td>SP33</td>\n",
       "      <td>kw</td>\n",
       "      <td>kilowatts</td>\n",
       "      <td>21:45:00</td>\n",
       "      <td>0</td>\n",
       "      <td>34</td>\n",
       "      <td>0.2740</td>\n",
       "      <td>NaN</td>\n",
       "      <td>1</td>\n",
       "    </tr>\n",
       "    <tr>\n",
       "      <th>1</th>\n",
       "      <td>1679</td>\n",
       "      <td>Thane</td>\n",
       "      <td>RESIDENTIAL</td>\n",
       "      <td>BILL CYCLE 10</td>\n",
       "      <td>BC10</td>\n",
       "      <td>2017-03-15</td>\n",
       "      <td>20170315</td>\n",
       "      <td>NONE</td>\n",
       "      <td>NONE</td>\n",
       "      <td>NONE</td>\n",
       "      <td>...</td>\n",
       "      <td>33rd Street</td>\n",
       "      <td>SP33</td>\n",
       "      <td>kw</td>\n",
       "      <td>kilowatts</td>\n",
       "      <td>22:15:00</td>\n",
       "      <td>0</td>\n",
       "      <td>74</td>\n",
       "      <td>0.6577</td>\n",
       "      <td>NaN</td>\n",
       "      <td>1</td>\n",
       "    </tr>\n",
       "    <tr>\n",
       "      <th>2</th>\n",
       "      <td>1679</td>\n",
       "      <td>Thane</td>\n",
       "      <td>RESIDENTIAL</td>\n",
       "      <td>BILL CYCLE 10</td>\n",
       "      <td>BC10</td>\n",
       "      <td>2017-01-19</td>\n",
       "      <td>20170119</td>\n",
       "      <td>NONE</td>\n",
       "      <td>NONE</td>\n",
       "      <td>NONE</td>\n",
       "      <td>...</td>\n",
       "      <td>33rd Street</td>\n",
       "      <td>SP33</td>\n",
       "      <td>kw</td>\n",
       "      <td>kilowatts</td>\n",
       "      <td>22:00:00</td>\n",
       "      <td>0</td>\n",
       "      <td>19</td>\n",
       "      <td>0.9483</td>\n",
       "      <td>NaN</td>\n",
       "      <td>1</td>\n",
       "    </tr>\n",
       "    <tr>\n",
       "      <th>3</th>\n",
       "      <td>1679</td>\n",
       "      <td>Thane</td>\n",
       "      <td>RESIDENTIAL</td>\n",
       "      <td>BILL CYCLE 10</td>\n",
       "      <td>BC10</td>\n",
       "      <td>2017-03-21</td>\n",
       "      <td>20170321</td>\n",
       "      <td>NONE</td>\n",
       "      <td>NONE</td>\n",
       "      <td>NONE</td>\n",
       "      <td>...</td>\n",
       "      <td>33rd Street</td>\n",
       "      <td>SP33</td>\n",
       "      <td>kw</td>\n",
       "      <td>kilowatts</td>\n",
       "      <td>21:30:00</td>\n",
       "      <td>0</td>\n",
       "      <td>80</td>\n",
       "      <td>0.8360</td>\n",
       "      <td>NaN</td>\n",
       "      <td>1</td>\n",
       "    </tr>\n",
       "    <tr>\n",
       "      <th>4</th>\n",
       "      <td>1679</td>\n",
       "      <td>Thane</td>\n",
       "      <td>RESIDENTIAL</td>\n",
       "      <td>BILL CYCLE 10</td>\n",
       "      <td>BC10</td>\n",
       "      <td>2017-03-18</td>\n",
       "      <td>20170318</td>\n",
       "      <td>NONE</td>\n",
       "      <td>NONE</td>\n",
       "      <td>NONE</td>\n",
       "      <td>...</td>\n",
       "      <td>33rd Street</td>\n",
       "      <td>SP33</td>\n",
       "      <td>kw</td>\n",
       "      <td>kilowatts</td>\n",
       "      <td>22:45:00</td>\n",
       "      <td>0</td>\n",
       "      <td>77</td>\n",
       "      <td>0.9974</td>\n",
       "      <td>NaN</td>\n",
       "      <td>1</td>\n",
       "    </tr>\n",
       "  </tbody>\n",
       "</table>\n",
       "<p>5 rows × 23 columns</p>\n",
       "</div>"
      ],
      "text/plain": [
       "   MeterNo AccountName  AccountType      BillCycle BillCycleID        Date  \\\n",
       "0     1679       Thane  RESIDENTIAL  BILL CYCLE 10        BC10  2017-02-03   \n",
       "1     1679       Thane  RESIDENTIAL  BILL CYCLE 10        BC10  2017-03-15   \n",
       "2     1679       Thane  RESIDENTIAL  BILL CYCLE 10        BC10  2017-01-19   \n",
       "3     1679       Thane  RESIDENTIAL  BILL CYCLE 10        BC10  2017-03-21   \n",
       "4     1679       Thane  RESIDENTIAL  BILL CYCLE 10        BC10  2017-03-18   \n",
       "\n",
       "    DateStr Event ExceptionType ExceptionTypeDesc      ...       PremiseName  \\\n",
       "0  20170203  NONE          NONE              NONE      ...       33rd Street   \n",
       "1  20170315  NONE          NONE              NONE      ...       33rd Street   \n",
       "2  20170119  NONE          NONE              NONE      ...       33rd Street   \n",
       "3  20170321  NONE          NONE              NONE      ...       33rd Street   \n",
       "4  20170318  NONE          NONE              NONE      ...       33rd Street   \n",
       "\n",
       "  ServicePt UOM    UOMName TimeStamp CurrBillCycle DateId  Value1  Value2  \\\n",
       "0      SP33  kw  kilowatts  21:45:00             0     34  0.2740     NaN   \n",
       "1      SP33  kw  kilowatts  22:15:00             0     74  0.6577     NaN   \n",
       "2      SP33  kw  kilowatts  22:00:00             0     19  0.9483     NaN   \n",
       "3      SP33  kw  kilowatts  21:30:00             0     80  0.8360     NaN   \n",
       "4      SP33  kw  kilowatts  22:45:00             0     77  0.9974     NaN   \n",
       "\n",
       "   Record_count  \n",
       "0             1  \n",
       "1             1  \n",
       "2             1  \n",
       "3             1  \n",
       "4             1  \n",
       "\n",
       "[5 rows x 23 columns]"
      ]
     },
     "execution_count": 8,
     "metadata": {},
     "output_type": "execute_result"
    }
   ],
   "source": [
    "data.head(5)"
   ]
  },
  {
   "cell_type": "code",
   "execution_count": 9,
   "metadata": {
    "collapsed": false
   },
   "outputs": [
    {
     "data": {
      "text/plain": [
       "MeterNo              242\n",
       "AccountName          242\n",
       "AccountType          242\n",
       "BillCycle            242\n",
       "BillCycleID          242\n",
       "Date                 242\n",
       "DateStr              242\n",
       "Event                242\n",
       "ExceptionType        242\n",
       "ExceptionTypeDesc    242\n",
       "MeterType            242\n",
       "MeterReadType        242\n",
       "MeterReadTypeDesc    242\n",
       "PremiseName          242\n",
       "ServicePt            242\n",
       "UOM                  242\n",
       "UOMName              242\n",
       "TimeStamp            242\n",
       "CurrBillCycle        242\n",
       "DateId               242\n",
       "Value1               242\n",
       "Value2                 0\n",
       "Record_count         242\n",
       "dtype: int64"
      ]
     },
     "execution_count": 9,
     "metadata": {},
     "output_type": "execute_result"
    }
   ],
   "source": [
    "data[data['ExceptionType'] != 'NONE']\n",
    "data[data['ExceptionType'] != 'NONE'].count()"
   ]
  },
  {
   "cell_type": "code",
   "execution_count": 11,
   "metadata": {
    "collapsed": false
   },
   "outputs": [
    {
     "name": "stdout",
     "output_type": "stream",
     "text": [
      "['RESIDENTIAL' 'COMMERCIAL' 'INDUSTRIAL']\n",
      "['BC10' 'BC16' 'BC5' 'BC15' 'BC4' 'BC8' 'BC7' 'BC22' 'BC21' 'BC3' 'BC20'\n",
      " 'BC2' 'BC14' 'BC19' 'BC18' 'BC13' 'BC1' 'BC17' 'BC12' 'BC11' 'BC9' 'BC6']\n",
      "['NONE' 'Opened' 'Changed' 'LossDetected' 'Reset' 'Error' 'Cleared'\n",
      " 'MinLimitReached' 'Stopped' 'Failed']\n",
      "['NONE' 'Security' 'Configuration Failure' 'Power Outage'\n",
      " 'Inaccurate Reading/Data Collection Failure' 'Firmware Failure'\n",
      " 'Service/Meter Type Mismatch' 'Battery Failure' 'Communication Failure'\n",
      " 'Meter Clock Failure']\n",
      "['E']\n",
      "['ACTUAL' 'MISSING' 'ESTIMATED']\n"
     ]
    }
   ],
   "source": [
    "print(data['AccountType'].unique())\n",
    "print(data['BillCycleID'].unique())\n",
    "print(data['Event'].unique())\n",
    "print(data['ExceptionType'].unique())\n",
    "print(data['MeterType'].unique())\n",
    "print(data['MeterReadTypeDesc'].unique())"
   ]
  },
  {
   "cell_type": "code",
   "execution_count": 6,
   "metadata": {
    "collapsed": false
   },
   "outputs": [
    {
     "data": {
      "text/plain": [
       "MeterNo                int64\n",
       "AccountName           object\n",
       "AccountType           object\n",
       "BillCycle             object\n",
       "BillCycleID           object\n",
       "Date                  object\n",
       "DateStr                int64\n",
       "Event                 object\n",
       "ExceptionType         object\n",
       "ExceptionTypeDesc     object\n",
       "MeterType             object\n",
       "MeterReadType         object\n",
       "MeterReadTypeDesc     object\n",
       "ServicePt             object\n",
       "UOM                   object\n",
       "UOMName               object\n",
       "TimeStamp             object\n",
       "CurrBillCycle          int64\n",
       "PremiseName           object\n",
       "Latitude             float64\n",
       "Longitude            float64\n",
       "DateId                 int64\n",
       "Value1               float64\n",
       "Value2               float64\n",
       "Record_count           int64\n",
       "dtype: object"
      ]
     },
     "execution_count": 6,
     "metadata": {},
     "output_type": "execute_result"
    }
   ],
   "source": [
    "data.dtypes"
   ]
  },
  {
   "cell_type": "code",
   "execution_count": null,
   "metadata": {
    "collapsed": false
   },
   "outputs": [],
   "source": [
    "data['MeterNo'] = data['MeterNo'].astype('str')\n",
    "data['AccountType'] = data['AccountType'].astype('category')\n",
    "data['BillCycleID'] = data['BillCycleID'].astype('category')\n",
    "data['Event'] = data['Event'].astype('category')\n",
    "data['ExceptionTypeDesc'] = data['ExceptionTypeDesc'].astype('category')\n",
    "data['MeterReadTypeDesc'] = data['MeterReadTypeDesc'].astype('category')"
   ]
  }
 ],
 "metadata": {
  "kernelspec": {
   "display_name": "Python 2",
   "language": "python",
   "name": "python2"
  },
  "language_info": {
   "codemirror_mode": {
    "name": "ipython",
    "version": 2
   },
   "file_extension": ".py",
   "mimetype": "text/x-python",
   "name": "python",
   "nbconvert_exporter": "python",
   "pygments_lexer": "ipython2",
   "version": "2.7.11"
  }
 },
 "nbformat": 4,
 "nbformat_minor": 2
}
